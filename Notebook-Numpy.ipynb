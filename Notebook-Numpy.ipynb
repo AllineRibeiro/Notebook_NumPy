{
 "cells": [
  {
   "cell_type": "markdown",
   "metadata": {},
   "source": [
    "# Numpy <img width=\"100px\" height=\"100px\" src=\"https://pt.seaicons.com/wp-content/uploads/2015/07/Other-python-icon.png\"> "
   ]
  },
  {
   "cell_type": "markdown",
   "metadata": {},
   "source": [
    "<p>O NumPy é uma biblioteca de código aberto disponível em Python que auxilia na programação matemática, \n",
    "científica, de engenharia e de ciência de dados, e nas operações de matemáticas e estatísticas.\n",
    "<p> Ele foi construído para trabalhar com o: <ul><p><li>Array N-dimensional <li>Álgebra linear <li>Número aleatório <li>Transformada de Fourier</ul>\n",
    "\n",
    "<p>Uma das grandes vantagens de usar o Numpy, além de ser bem rápido, é a eficiência de memória. Ele consegue manipular uma enorme quantidade de dados mais acessível que qualquer outra biblioteca. Além disso, o NumPy é muito conveniente para trabalhar, especialmente para multiplicação e remodelagem de matrizes."
   ]
  },
  {
   "cell_type": "markdown",
   "metadata": {},
   "source": [
    "## Como instalar o Numpy?"
   ]
  },
  {
   "cell_type": "markdown",
   "metadata": {},
   "source": [
    "Antes de instalar, é importante saber que recomendamos a instalação de distribuiçoes científicas do python.\n",
    "<p> As distribuições Python fornecem a própria linguagem junto com os pacotes e ferramentas mais usados. Esses arquivos que podem ser baixados exigem pouca configuração, funcionam em quase todas as configurações e fornecem todas as ferramentas científicas frequentemente usadas em Python.\n",
    "\n",
    "<p>Listamos aqui algumas distribuições que ja tem em seu pacote de instalação a biblioteca Numpy:\n",
    "<ul><b>  \n",
    "<li>Anaconda/Miniconda\n",
    "<li>Enthought Canotpy\n",
    "<li>WinPython\n",
    "<li>Pyzo\n",
    "    <li>NeuroDebian repository</b>\n",
    "</ul>"
   ]
  },
  {
   "cell_type": "markdown",
   "metadata": {},
   "source": [
    "## Importando o Numpy\n"
   ]
  },
  {
   "cell_type": "markdown",
   "metadata": {},
   "source": [
    "<P> Abaixo iremos ver como importamos a biblioteca NumPY, e por padrão iremos renomea-la para np.\n",
    "    "
   ]
  },
  {
   "cell_type": "code",
   "execution_count": 2,
   "metadata": {},
   "outputs": [],
   "source": [
    "import numpy as np"
   ]
  },
  {
   "cell_type": "markdown",
   "metadata": {},
   "source": [
    "<p> Neste comando iremos verificar a a versão do Numpy."
   ]
  },
  {
   "cell_type": "code",
   "execution_count": 88,
   "metadata": {},
   "outputs": [
    {
     "name": "stdout",
     "output_type": "stream",
     "text": [
      "1.16.4\n"
     ]
    }
   ],
   "source": [
    "print(np.__version__)## são 2 underlines"
   ]
  },
  {
   "cell_type": "markdown",
   "metadata": {},
   "source": [
    "## Funções"
   ]
  },
  {
   "cell_type": "markdown",
   "metadata": {},
   "source": [
    "Agora vamos criar uma Matriz, sempre começamos importando o Numpy. A função np.array ou numpy.array cria um array a partir de lista, tuplas ou listas de listas."
   ]
  },
  {
   "cell_type": "code",
   "execution_count": 25,
   "metadata": {},
   "outputs": [
    {
     "name": "stdout",
     "output_type": "stream",
     "text": [
      "Matriz de 1D\n",
      "[1 2 3]\n",
      "\n",
      "Matriz de 2D\n",
      "[[1 2 3]\n",
      " [4 5 6]]\n",
      "\n",
      "Matriz 3D\n",
      "[['1' 'Alline']\n",
      " ['2' 'Ruan']\n",
      " ['3' 'Leila']]\n"
     ]
    }
   ],
   "source": [
    "import numpy as np\n",
    "\n",
    "array1d = np.array([1,2,3]) #cria uma matriz de 1 dimensão\n",
    "print('Matriz de 1D')\n",
    "print(array1d)\n",
    "\n",
    "array2d = np.array([[1,2,3],[4,5,6]])#cria uma amtriz de 2 dimenções, ultilizando lista de listas\n",
    "print('\\nMatriz de 2D')\n",
    "print(array2d)\n",
    "\n",
    "array3d = np.array([[1,'Alline'],[2,'Ruan'],[3,'Leila']])#cria uma matriz de 3 dimensão, ultizando tuplas\n",
    "print('\\nMatriz 3D')\n",
    "print(array3d)"
   ]
  },
  {
   "cell_type": "markdown",
   "metadata": {},
   "source": [
    "Nesta parte iremos ver algumas funções importantes para criação de Matrizes."
   ]
  },
  {
   "cell_type": "markdown",
   "metadata": {},
   "source": [
    "<ul>\n",
    "    <li><b>np.linspace(a,b,N)</b>: Cria a matriz a partir de um intervalo"
   ]
  },
  {
   "cell_type": "code",
   "execution_count": 36,
   "metadata": {},
   "outputs": [
    {
     "name": "stdout",
     "output_type": "stream",
     "text": [
      "[2.         2.44444444 2.88888889 3.33333333 3.77777778 4.22222222\n",
      " 4.66666667 5.11111111 5.55555556 6.        ]\n"
     ]
    }
   ],
   "source": [
    "import numpy as np\n",
    "\n",
    "a = np.linspace(2,6,10) #cria uma matriz 1D com 10 elementos no intervalo de 2 á 6\n",
    "print(a)\n"
   ]
  },
  {
   "cell_type": "markdown",
   "metadata": {},
   "source": [
    "<ul><li> <b>np.arange(a,b,N)</b>: Cria uma matriz 1D a patir de um intervalo incrementando N, seja ele um valor real."
   ]
  },
  {
   "cell_type": "code",
   "execution_count": 38,
   "metadata": {},
   "outputs": [
    {
     "name": "stdout",
     "output_type": "stream",
     "text": [
      "[2 3 4 5]\n"
     ]
    }
   ],
   "source": [
    "import numpy as np\n",
    "\n",
    "a = np.arange(2,6,1) #cria uma matriz 1D somando 1 no intervalo de 2 á 6 \n",
    "print(a)"
   ]
  },
  {
   "cell_type": "markdown",
   "metadata": {},
   "source": [
    "<ul><li><b>np.zeros(N)</b>: Cria uma matriz com 0's."
   ]
  },
  {
   "cell_type": "code",
   "execution_count": 39,
   "metadata": {},
   "outputs": [
    {
     "name": "stdout",
     "output_type": "stream",
     "text": [
      "[0. 0. 0. 0. 0. 0. 0. 0. 0. 0.]\n"
     ]
    }
   ],
   "source": [
    "import numpy as np\n",
    "\n",
    "a = np.zeros(10) \n",
    "print(a)"
   ]
  },
  {
   "cell_type": "markdown",
   "metadata": {},
   "source": [
    "<ul><li><b>np.ones(N,M)</b>: Cria uma matriz 2D com N linhas e M colunas de 1's."
   ]
  },
  {
   "cell_type": "code",
   "execution_count": 46,
   "metadata": {},
   "outputs": [
    {
     "name": "stdout",
     "output_type": "stream",
     "text": [
      "[[1. 1. 1. 1. 1.]\n",
      " [1. 1. 1. 1. 1.]\n",
      " [1. 1. 1. 1. 1.]\n",
      " [1. 1. 1. 1. 1.]]\n"
     ]
    }
   ],
   "source": [
    "import numpy as np\n",
    "\n",
    "a = np.ones((4,5)) \n",
    "print(a)"
   ]
  },
  {
   "cell_type": "markdown",
   "metadata": {},
   "source": [
    "<ul><li><b>np.eye(N)</b>: Cria uma matriz Identidade de tamanho N."
   ]
  },
  {
   "cell_type": "code",
   "execution_count": 44,
   "metadata": {
    "scrolled": false
   },
   "outputs": [
    {
     "name": "stdout",
     "output_type": "stream",
     "text": [
      "[[1. 0. 0. 0. 0.]\n",
      " [0. 1. 0. 0. 0.]\n",
      " [0. 0. 1. 0. 0.]\n",
      " [0. 0. 0. 1. 0.]\n",
      " [0. 0. 0. 0. 1.]]\n"
     ]
    }
   ],
   "source": [
    "import numpy as np\n",
    "\n",
    "a = np.eye(5) \n",
    "print(a)"
   ]
  },
  {
   "cell_type": "markdown",
   "metadata": {},
   "source": [
    "<ul><li><b>.ndim</b>: nos informa a dimensão da matriz"
   ]
  },
  {
   "cell_type": "code",
   "execution_count": 2,
   "metadata": {},
   "outputs": [
    {
     "name": "stdout",
     "output_type": "stream",
     "text": [
      "[[1 2 3]\n",
      " [3 4 5]\n",
      " [3 4 5]]\n",
      "\n",
      "O numero de dimenções é 2\n"
     ]
    }
   ],
   "source": [
    "import numpy as np\n",
    "\n",
    "a = np.array([[1,2,3],[3,4,5],[3,4,5]])\n",
    "print(a)\n",
    "\n",
    "print('\\nO numero de dimenções é',a.ndim)"
   ]
  },
  {
   "cell_type": "markdown",
   "metadata": {},
   "source": [
    "<ul><li><b>.shape</b>: nos informa a quantidade de linha e colunas da matriz"
   ]
  },
  {
   "cell_type": "code",
   "execution_count": 53,
   "metadata": {
    "scrolled": true
   },
   "outputs": [
    {
     "name": "stdout",
     "output_type": "stream",
     "text": [
      "[[1 2 3]\n",
      " [3 4 5]\n",
      " [3 4 5]]\n",
      "\n",
      "O numero de linhas e colunas são (3, 3)\n"
     ]
    }
   ],
   "source": [
    "import numpy as np\n",
    "\n",
    "a = np.array([[1,2,3],[3,4,5],[3,4,5]])\n",
    "print(a)\n",
    "\n",
    "print('\\nO número de linhas e colunas são',a.shape)"
   ]
  },
  {
   "cell_type": "markdown",
   "metadata": {},
   "source": [
    "## Operações "
   ]
  },
  {
   "cell_type": "markdown",
   "metadata": {},
   "source": [
    "Também podemos realizar operações com as matrizes, de um jeito muito simples.\n",
    "\n",
    "<ul>\n",
    "    <li><b> Soma\n",
    "    <li> Subtração\n",
    "    <li>Multiplicação\n",
    "    <li>Divisão\n",
    "    <li> Exponenciação</b>\n",
    "</ul>"
   ]
  },
  {
   "cell_type": "code",
   "execution_count": 74,
   "metadata": {},
   "outputs": [
    {
     "name": "stdout",
     "output_type": "stream",
     "text": [
      "\n",
      "As matrizes são: \n",
      "\n",
      "M1\n",
      " [[1 2 3]\n",
      " [4 5 6]]\n",
      "\n",
      "M2\n",
      " [[1. 1. 1.]\n",
      " [1. 1. 1.]]\n",
      "\n",
      "Soma\n",
      " [[2. 3. 4.]\n",
      " [5. 6. 7.]]\n",
      "\n",
      "Multiplicação\n",
      " [[1. 2. 3.]\n",
      " [4. 5. 6.]]\n",
      "\n",
      "Divisão\n",
      " [[1.         0.5        0.33333333]\n",
      " [0.25       0.2        0.16666667]]\n",
      "\n",
      "Exponencial\n",
      " [[ 1  4  9]\n",
      " [16 25 36]]\n"
     ]
    }
   ],
   "source": [
    "import numpy as np\n",
    "\n",
    "m1 = np.array([[1,2,3],[4,5,6]])\n",
    "m2 = np.ones((2,3))\n",
    "\n",
    "print('\\nAs matrizes são: \\n')\n",
    "print('M1\\n',m1)\n",
    "print('\\nM2\\n',m2)\n",
    "\n",
    "soma = m1+m2\n",
    "sub = m1-m2\n",
    "mul=m1*m2\n",
    "div=m2/m1\n",
    "exp= m1 ** 2\n",
    "\n",
    "print('\\nSoma\\n',soma)\n",
    "print('\\nMultiplicação\\n',mul)\n",
    "print('\\nDivisão\\n',div)\n",
    "print('\\nExponencial\\n',exp)"
   ]
  },
  {
   "cell_type": "markdown",
   "metadata": {},
   "source": [
    "## Números Aleatórios"
   ]
  },
  {
   "cell_type": "markdown",
   "metadata": {},
   "source": [
    "Existem 3 formas de gerar matrizes com números aleatórios:\n",
    "\n",
    "<ul>\n",
    "    <li><b>np.random.rand(d1,..,dn)</b>\n",
    "    <li><b>np.random.randn(d1,..,dn)</b>\n",
    "    <li><b>np.random.randint(n1,n2,(linha,coluna))</b>\n",
    "</ul>"
   ]
  },
  {
   "cell_type": "code",
   "execution_count": 86,
   "metadata": {},
   "outputs": [
    {
     "name": "stdout",
     "output_type": "stream",
     "text": [
      "\n",
      "A\n",
      " [[0.63674492 0.81918103 0.96579239]\n",
      " [0.72679309 0.63726089 0.18197615]]\n",
      "\n",
      "B\n",
      " [[ 0.70366392 -0.12190491  0.17305901]\n",
      " [-0.22784972  0.01674753 -0.26634844]]\n",
      "\n",
      "C\n",
      " [-1  1 -2  2 -1  0 -2]\n",
      "\n",
      " D\n",
      " [[-1  1  0  0]\n",
      " [-2  2 -2  2]\n",
      " [ 1 -1 -1  0]\n",
      " [ 0 -2  2 -1]\n",
      " [-1  0 -2  0]\n",
      " [-1 -1 -2 -2]\n",
      " [ 2 -2  0  2]]\n"
     ]
    }
   ],
   "source": [
    "import numpy as np\n",
    "\n",
    " ## cria uma matriz com tamnaho que o usuario determina porem os numeros gerados pertencem ao intervalo [0,1]\n",
    "a =np.random.rand(2,3)\n",
    "print('\\nA\\n',a)\n",
    "\n",
    "## cria uma matriz com tamnaho que o usuario determina, desta vez sem restrição\n",
    "b = np.random.randn(2,3)\n",
    "print('\\nB\\n',b)\n",
    "\n",
    "## cria uma matriz com tamanho que o usuario determina e os numeros gerados aleatoriamente são inteiros, o usuario informa o intervalo\n",
    "## neste exemplo o intervalo é de -2 a 3 com tamanho de 7 colunas e 1 linha\n",
    "c = np.random.randint(-2,3,7)\n",
    "print('\\nC\\n',c)\n",
    "\n",
    "## neste exemplo o intervalo é de -2 a 3 com tamanho de  4 colunas e 7 linha\n",
    "d = np.random.randint(-2,3,(7,4))\n",
    "print('\\n D\\n',d)"
   ]
  }
 ],
 "metadata": {
  "kernelspec": {
   "display_name": "Python 3",
   "language": "python",
   "name": "python3"
  },
  "language_info": {
   "codemirror_mode": {
    "name": "ipython",
    "version": 3
   },
   "file_extension": ".py",
   "mimetype": "text/x-python",
   "name": "python",
   "nbconvert_exporter": "python",
   "pygments_lexer": "ipython3",
   "version": "3.7.3"
  }
 },
 "nbformat": 4,
 "nbformat_minor": 2
}
